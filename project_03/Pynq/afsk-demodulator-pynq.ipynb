{
 "cells": [
  {
   "cell_type": "markdown",
   "metadata": {},
   "source": [
    "# AFSK Demodulator\n",
    "## Step 3: Correlator\n",
    "\n",
    "This is a Pynq portion of the AFSK demodulator project.  We will be using the FPGA overlay that we created in Vivado.\n",
    "\n",
    "At this point we have created the bitstream for \"project_03\" and copied the bitstream, TCL wrapper, and hardware hand-off file to the Pynq board.\n",
    "\n",
    "Let's first verify that we can load the module."
   ]
  },
  {
   "cell_type": "code",
   "execution_count": 1,
   "metadata": {},
   "outputs": [
    {
     "data": {
      "application/javascript": [
       "\n",
       "require(['notebook/js/codecell'], function(codecell) {\n",
       "  codecell.CodeCell.options_default.highlight_modes[\n",
       "      'magic_text/x-csrc'] = {'reg':[/^%%microblaze/]};\n",
       "  Jupyter.notebook.events.one('kernel_ready.Kernel', function(){\n",
       "      Jupyter.notebook.get_cells().map(function(cell){\n",
       "          if (cell.cell_type == 'code'){ cell.auto_highlight(); } }) ;\n",
       "  });\n",
       "});\n"
      ]
     },
     "metadata": {},
     "output_type": "display_data"
    },
    {
     "name": "stdout",
     "output_type": "stream",
     "text": [
      "<pynq.lib.dma.DMA object at 0xae97d3b0>\n"
     ]
    }
   ],
   "source": [
    "from pynq import Overlay, Xlnk\n",
    "import numpy as np\n",
    "import pynq.lib.dma\n",
    "\n",
    "overlay = Overlay('project_03.bit')\n",
    "dma = overlay.demodulator.dma"
   ]
  },
  {
   "cell_type": "markdown",
   "metadata": {},
   "source": [
    "## Accellerating FIR Filter\n",
    "\n",
    "Below is the implementation of the AFSK demodulator in Python.  We are going to remove the band pass filter code and replace it with new code."
   ]
  },
  {
   "cell_type": "code",
   "execution_count": 7,
   "metadata": {},
   "outputs": [
    {
     "name": "stdout",
     "output_type": "stream",
     "text": [
      "Hardware Correlator execution time:  0.10709118843078613\n",
      "Hardware Correlator execution time:  0.004674673080444336\n",
      "[-1 -1 -1 -1 -1 -1 -1  0  0 -1 -1 -1 -1 -1 -1 -1] 26594\n",
      "KD6FVP-4>APS224,N6EX-2,WIDE1-1:>152343z[224]*We know most of your faults!!!?\n"
     ]
    }
   ],
   "source": [
    "import sys\n",
    "sys.path.append('../../base')\n",
    "\n",
    "import numpy as np\n",
    "from scipy.signal import lfiltic, lfilter, firwin\n",
    "from scipy.io.wavfile import read\n",
    "from DigitalPLL import DigitalPLL\n",
    "from HDLC import HDLC\n",
    "from AX25 import AX25\n",
    "import time\n",
    "\n",
    "block_size = 264\n",
    "\n",
    "xlnk = Xlnk()\n",
    "\n",
    "def corr(data):\n",
    "    start_time = time.time()\n",
    "    output = np.array([],dtype=np.bool)\n",
    "    with xlnk.cma_array(shape=(block_size,), dtype=np.int16) as out_buffer, \\\n",
    "        xlnk.cma_array(shape=(block_size,), dtype=np.int8) as in_buffer:\n",
    "\n",
    "        for i in range(0, len(data), block_size):\n",
    "            out_buffer[:len(data[i:i+block_size])] = data[i:i+block_size]\n",
    "            dma.sendchannel.transfer(out_buffer)\n",
    "            dma.recvchannel.transfer(in_buffer)\n",
    "            dma.sendchannel.wait()\n",
    "            dma.recvchannel.wait()\n",
    "            output = np.append(output, in_buffer)\n",
    "            \n",
    "    stop_time = time.time()\n",
    "    sw_exec_time = stop_time - start_time\n",
    "    print('Hardware Correlator execution time: ',sw_exec_time)\n",
    "    return output\n",
    "\n",
    "class fir_filter(object):\n",
    "    def __init__(self, coeffs):\n",
    "        self.coeffs = coeffs\n",
    "        self.zl = lfiltic(self.coeffs, 32768.0, [], [])\n",
    "    def __call__(self, data):\n",
    "        result, self.zl = lfilter(self.coeffs, 32768.0, data, -1, self.zl)\n",
    "        return result\n",
    "\n",
    "class NRZI:\n",
    "\n",
    "    def __init__(self):\n",
    "\n",
    "        self.state = False\n",
    "\n",
    "    def __call__(self, x):\n",
    "        \n",
    "        result = (x == self.state)\n",
    "        self.state = x\n",
    "        return result\n",
    "\n",
    "\n",
    "audio_file = read('../../base/TNC_Test_Ver-1.102-26400-1sec.wav')\n",
    "sample_rate = audio_file[0]\n",
    "audio_data = audio_file[1]\n",
    "delay = 12 # ~446us\n",
    "\n",
    "\n",
    "lpf_coeffs = np.array(firwin(101, [760.0/(sample_rate/2)], width = None,\n",
    "        pass_zero = True, scale = True, window='hann') * 32768, dtype=int)\n",
    "\n",
    "lpf = fir_filter(lpf_coeffs)\n",
    "\n",
    "filter_delay = 70\n",
    "\n",
    "# Band-pass filter + correlate the audio data\n",
    "f = corr(audio_data[:26400])\n",
    "x = np.append(f, corr(np.zeros(filter_delay)))[filter_delay:]\n",
    "\n",
    "# Note that the sign of the correlated value has changed...\n",
    "print(x[:16], len(x))\n",
    "\n",
    "# Low-pass filter the PWM signal\n",
    "c = np.append(lpf(x + 0.5), lpf(np.zeros(len(lpf_coeffs)//2)))[len(lpf_coeffs)//2:]\n",
    "# Digitize the tone transistions\n",
    "dx = np.array([int(x > 0) for x in c])\n",
    "# Create the PLL\n",
    "pll = DigitalPLL(sample_rate, 1200.0)\n",
    "\n",
    "locked = np.zeros(len(dx), dtype=int)\n",
    "sample = np.zeros(len(dx), dtype=int)\n",
    "\n",
    "# Clock recovery\n",
    "for i in range(len(dx)):\n",
    "    sample[i] = pll(dx[i])\n",
    "    locked[i] = pll.locked()\n",
    "    \n",
    "nrzi = NRZI()\n",
    "\n",
    "data = [int(nrzi(x)) for x,y in zip(dx, sample) if y]\n",
    "\n",
    "hdlc = HDLC()\n",
    "\n",
    "for b,s,l in zip(dx, sample, locked):\n",
    "    if s:\n",
    "        packet = hdlc(nrzi(b), l)\n",
    "        if packet is not None:\n",
    "            print(AX25(packet[1]))\n"
   ]
  },
  {
   "cell_type": "code",
   "execution_count": 3,
   "metadata": {},
   "outputs": [],
   "source": [
    "# xlnk.xlnk_reset()"
   ]
  },
  {
   "cell_type": "code",
   "execution_count": null,
   "metadata": {},
   "outputs": [],
   "source": []
  }
 ],
 "metadata": {
  "kernelspec": {
   "display_name": "Python 3",
   "language": "python",
   "name": "python3"
  },
  "language_info": {
   "codemirror_mode": {
    "name": "ipython",
    "version": 3
   },
   "file_extension": ".py",
   "mimetype": "text/x-python",
   "name": "python",
   "nbconvert_exporter": "python",
   "pygments_lexer": "ipython3",
   "version": "3.6.5"
  }
 },
 "nbformat": 4,
 "nbformat_minor": 2
}
