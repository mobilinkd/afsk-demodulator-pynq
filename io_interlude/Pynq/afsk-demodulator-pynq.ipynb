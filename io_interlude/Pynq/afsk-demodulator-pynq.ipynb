{
 "cells": [
  {
   "cell_type": "markdown",
   "metadata": {},
   "source": [
    "# AFSK Demodulator\n",
    "## Step 5: Hardware I/O Interlude\n",
    "\n",
    "This is a Pynq portion of the AFSK demodulator project. We will be using the FPGA overlay that we\n",
    "created in Vivado. At this point we have created the bitstream for \"count\" and copied the\n",
    "bitstream, TCL wrapper, and hardware hand-off file to the Pynq board.\n",
    "\n",
    "This module is designed to exercise the digital I/O of the board, both inputs and outputs.  The PL implements a 4-bit counter using the green LEDs, and an up/down input using buttons 2 & 1, a reset to 0 on button 0, and a \"read me\" button that triggers an interrupt on the PS on button 3.  The 4-bit counter can be read on the PS via MMIO.\n",
    "\n",
    "Let's first verify that we can load the module."
   ]
  },
  {
   "cell_type": "code",
   "execution_count": 7,
   "metadata": {},
   "outputs": [
    {
     "name": "stdout",
     "output_type": "stream",
     "text": [
      "RegisterMap {\n",
      "  cntr_V = Register(cntr_V=8, RESERVED=0),\n",
      "  cntr_V_ctrl = Register(cntr_V_ap_vld=1, RESERVED=0)\n",
      "}\n"
     ]
    }
   ],
   "source": [
    "from pynq import Overlay, Xlnk\n",
    "import pynq.lib.dma\n",
    "\n",
    "overlay = Overlay('count.bit')\n",
    "count = overlay.count\n",
    "print(count.register_map)"
   ]
  },
  {
   "cell_type": "markdown",
   "metadata": {},
   "source": [
    "In the following section we will implement code that waits for an interrupt.  This is triggered by pressing button 3 (the left-most button).  When it is pressed, the value of the counter is read and printed below.  If the value is 0 then the loop terminates.  To restart, just re-run the cell.\n",
    "\n",
    "One thing that can be rather unexpected is that when `cntr` is defined as an `int` in HLS, it's name in Python is `cntr`.  However, if it is defined as `ap_uint<4>` its name is `cntr_V`.  There does not appear to be any way to affect this naming.  Hungarian notation in software design is now universally discouraged."
   ]
  },
  {
   "cell_type": "code",
   "execution_count": 8,
   "metadata": {},
   "outputs": [
    {
     "name": "stdout",
     "output_type": "stream",
     "text": [
      "0x8\n",
      "0x7\n",
      "0x0\n"
     ]
    }
   ],
   "source": [
    "import asyncio\n",
    "\n",
    "async def print_count():\n",
    "    while True:\n",
    "        await count.ap_return.wait()\n",
    "        a = count.register_map.cntr_V\n",
    "        print(a)\n",
    "        count.ap_return.event.clear()\n",
    "        if int(a) == 0:\n",
    "            return\n",
    "\n",
    "loop = asyncio.get_event_loop()\n",
    "loop.run_until_complete(print_count())"
   ]
  },
  {
   "cell_type": "code",
   "execution_count": null,
   "metadata": {},
   "outputs": [],
   "source": []
  }
 ],
 "metadata": {
  "kernelspec": {
   "display_name": "Python 3",
   "language": "python",
   "name": "python3"
  },
  "language_info": {
   "codemirror_mode": {
    "name": "ipython",
    "version": 3
   },
   "file_extension": ".py",
   "mimetype": "text/x-python",
   "name": "python",
   "nbconvert_exporter": "python",
   "pygments_lexer": "ipython3",
   "version": "3.6.5"
  }
 },
 "nbformat": 4,
 "nbformat_minor": 2
}
