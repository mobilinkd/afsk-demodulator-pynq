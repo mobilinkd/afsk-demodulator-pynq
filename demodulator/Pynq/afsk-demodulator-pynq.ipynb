{
 "cells": [
  {
   "cell_type": "markdown",
   "metadata": {},
   "source": [
    "#### AFSK Demodulator\n",
    "## Step 6: Complete Demodulator\n",
    "\n",
    "This is a Pynq portion of the AFSK demodulator project.  We will be using the FPGA overlay that we created in Vivado.\n",
    "\n",
    "At this point we have created the bitstream for \"project_06\" and copied the bitstream, TCL wrapper, and hardware hand-off file to the Pynq board.\n",
    "\n",
    "Let's first verify that we can load the module."
   ]
  },
  {
   "cell_type": "code",
   "execution_count": null,
   "metadata": {
    "scrolled": false
   },
   "outputs": [],
   "source": [
    "import sys\n",
    "sys.path.append('../../base')\n",
    "\n",
    "from pynq import Overlay, Xlnk\n",
    "import pynq.lib.dma\n",
    "\n",
    "overlay = Overlay('demodulator.bit')\n",
    "dma = overlay.demodulator.dma\n",
    "demod = overlay.demodulator.demod\n",
    "print(demod)\n",
    "print(demod.register_map)\n",
    "print(demod.register_map.cancel_o)"
   ]
  },
  {
   "cell_type": "markdown",
   "metadata": {},
   "source": [
    "## Implementing HDLC\n",
    "\n",
    "Below is the implementation of the AFSK demodulator in Python.  We are now going to remove the HDLC code from our existing project.  We need to make a significant change to the Python code here.  We are no longer writing X items and reading back X items.  We are now feeding in audio data and will occassionally get back a packet.  The packet code will need to be dealt with asynchronously.\n",
    "\n",
    "Luckily, the Pynq environment fully supports Python's asyncio interface for DMA operations.  When the packet arrive, we will decode the AX.25 data and print it, just like before."
   ]
  },
  {
   "cell_type": "code",
   "execution_count": null,
   "metadata": {
    "scrolled": true
   },
   "outputs": [],
   "source": [
    "import numpy as np\n",
    "from scipy.io.wavfile import read\n",
    "from AX25 import AX25\n",
    "import time\n",
    "import asyncio\n",
    "import concurrent.futures\n",
    "\n",
    "block_size = 1024*1024\n",
    "\n",
    "xlnk = Xlnk()\n",
    "\n",
    "async def read_packet():\n",
    "    count = 0\n",
    "    with xlnk.cma_array(shape=(4096,), dtype=np.uint8) as in_buffer:\n",
    "        while True:\n",
    "            dma.recvchannel.transfer(in_buffer)\n",
    "            await dma.recvchannel.wait_async()\n",
    "            in_buffer.invalidate();\n",
    "            received = dma.recvchannel._mmio.read(dma.recvchannel._offset + 0x28)\n",
    "            # print(\"received\", received, in_buffer[received - 1])\n",
    "            if in_buffer[received - 1] & 2:\n",
    "                print(\"Done Reading\", received, in_buffer[received - 1])\n",
    "                print(demod.register_map.cancel_o)\n",
    "                demod.register_map.cancel_i = 0\n",
    "                demod.register_map.CTRL = 0x01 # START ONE to cancel cancellation\n",
    "                break\n",
    "            if not (received > 12 and in_buffer[received - 1] & 1):\n",
    "                # print(\"Bad packet\", in_buffer[received - 1])\n",
    "                continue\n",
    "            else:\n",
    "                count += 1\n",
    "            packet = ''.join(str(s, encoding='Latin-1') for s in in_buffer[:received-3])\n",
    "            try:\n",
    "                print(count, AX25(packet), received)\n",
    "                # sys.stdout.write('\\r%05d' % count)\n",
    "            except:\n",
    "                print(\"decode error: \", packet, received)\n",
    "\n",
    "async def write_audio(data):\n",
    "    demod.register_map.CTRL = 0x81 # START|AUTO-RESTART while writing data\n",
    "    with xlnk.cma_array(shape=(block_size,), dtype=np.int16) as out_buffer:\n",
    "        for i in range(0, len(data), block_size):\n",
    "            size = len(data[i:i+block_size])\n",
    "            if size != block_size: break\n",
    "            out_buffer[:] = data[i:i+block_size]\n",
    "            out_buffer.flush();\n",
    "            dma.sendchannel.transfer(out_buffer)\n",
    "            await dma.sendchannel.wait_async()\n",
    "    \n",
    "    with xlnk.cma_array(shape=(size,), dtype=np.int16) as out_buffer:\n",
    "        out_buffer[:] = data[i:i+size]\n",
    "        dma.sendchannel.transfer(out_buffer)\n",
    "        await dma.sendchannel.wait_async()\n",
    "\n",
    "    print(\"Done writing\")\n",
    "    demod.register_map.CTRL = 0x00 # STOP\n",
    "    demod.register_map.cancel_i = 1\n",
    "    demod.register_map.CTRL = 0x01 # START ONE for cancellation\n",
    "\n",
    "def run():\n",
    "    audio_file = read('../../base/TNC_Test_Ver-1.101-26400-1min.wav')\n",
    "    sample_rate = audio_file[0]\n",
    "    audio_data = np.append(audio_file[1], np.zeros(120, dtype=int))\n",
    "\n",
    "    print(\"Starting...\")\n",
    "    start_time = time.time()\n",
    "\n",
    "    # demodulate the audio data\n",
    "    try:\n",
    "        loop = asyncio.get_event_loop()\n",
    "        loop.run_until_complete(asyncio.gather(\n",
    "            read_packet(),\n",
    "            write_audio(audio_data)\n",
    "        ))\n",
    "    finally:\n",
    "        pass\n",
    "        # Cannot close event loop in Jupyter.\n",
    "        # loop.close()\n",
    "    \n",
    "    stop_time = time.time()\n",
    "    sw_exec_time = stop_time - start_time\n",
    "    print('Total execution time:', sw_exec_time)\n",
    "\n",
    "run()"
   ]
  },
  {
   "cell_type": "code",
   "execution_count": null,
   "metadata": {},
   "outputs": [],
   "source": [
    "xlnk.xlnk_reset()"
   ]
  },
  {
   "cell_type": "code",
   "execution_count": null,
   "metadata": {},
   "outputs": [],
   "source": [
    "ctrl = dma.recvchannel._mmio.read(dma.recvchannel._offset)\n",
    "print(ctrl)\n",
    "dma.recvchannel._mmio.write(dma.recvchannel._offset, (ctrl | 4) & 0xFFFFFFFE)\n",
    "print(dma.recvchannel._mmio.read(dma.recvchannel._offset+0x04))\n",
    "dma.recvchannel.start()\n",
    "dma.sendchannel.start()"
   ]
  },
  {
   "cell_type": "code",
   "execution_count": null,
   "metadata": {},
   "outputs": [],
   "source": [
    "dma.recvchannel.stop()\n",
    "dma.recvchannel.start()\n",
    "with xlnk.cma_array(shape=(4096,), dtype=np.uint8) as in_buffer:\n",
    "    while True:\n",
    "        start_time = time.time()\n",
    "        dma.recvchannel.transfer(in_buffer)\n",
    "        dma.recvchannel.wait()\n",
    "        dma.recvchannel.stop()\n",
    "        dma.recvchannel.start()\n",
    "        received = dma.recvchannel._mmio.read(dma.recvchannel._offset + 0x28)\n",
    "        print(\"Received: \", received)\n",
    "        packet = ''.join(str(s, encoding='Latin-1') for s in in_buffer[:received])\n",
    "        print(AX25(packet))\n",
    "        stop_time = time.time()\n",
    "        sw_exec_time = stop_time - start_time\n",
    "        print('FPGA read_packet execution time: ',sw_exec_time)\n"
   ]
  },
  {
   "cell_type": "code",
   "execution_count": null,
   "metadata": {},
   "outputs": [],
   "source": [
    "demod.register_map.CTRL = 0"
   ]
  },
  {
   "cell_type": "code",
   "execution_count": null,
   "metadata": {},
   "outputs": [],
   "source": [
    "print(demod.register_map)"
   ]
  },
  {
   "cell_type": "code",
   "execution_count": null,
   "metadata": {},
   "outputs": [],
   "source": [
    "demod?"
   ]
  },
  {
   "cell_type": "code",
   "execution_count": null,
   "metadata": {},
   "outputs": [],
   "source": [
    "print(demod.register_map.CTRL.AUTO_RESTART)"
   ]
  },
  {
   "cell_type": "code",
   "execution_count": null,
   "metadata": {},
   "outputs": [],
   "source": []
  }
 ],
 "metadata": {
  "kernelspec": {
   "display_name": "Python 3",
   "language": "python",
   "name": "python3"
  },
  "language_info": {
   "codemirror_mode": {
    "name": "ipython",
    "version": 3
   },
   "file_extension": ".py",
   "mimetype": "text/x-python",
   "name": "python",
   "nbconvert_exporter": "python",
   "pygments_lexer": "ipython3",
   "version": "3.6.5"
  }
 },
 "nbformat": 4,
 "nbformat_minor": 2
}
