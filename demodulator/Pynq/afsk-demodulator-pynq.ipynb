{
 "cells": [
  {
   "cell_type": "markdown",
   "metadata": {},
   "source": [
    "#### AFSK Demodulator\n",
    "## Step 6: HDLC\n",
    "\n",
    "This is a Pynq portion of the AFSK demodulator project.  We will be using the FPGA overlay that we created in Vivado.\n",
    "\n",
    "At this point we have created the bitstream for \"project_06\" and copied the bitstream, TCL wrapper, and hardware hand-off file to the Pynq board.\n",
    "\n",
    "Let's first verify that we can load the module."
   ]
  },
  {
   "cell_type": "code",
   "execution_count": 1,
   "metadata": {
    "scrolled": false
   },
   "outputs": [
    {
     "data": {
      "application/javascript": [
       "\n",
       "require(['notebook/js/codecell'], function(codecell) {\n",
       "  codecell.CodeCell.options_default.highlight_modes[\n",
       "      'magic_text/x-csrc'] = {'reg':[/^%%microblaze/]};\n",
       "  Jupyter.notebook.events.one('kernel_ready.Kernel', function(){\n",
       "      Jupyter.notebook.get_cells().map(function(cell){\n",
       "          if (cell.cell_type == 'code'){ cell.auto_highlight(); } }) ;\n",
       "  });\n",
       "});\n"
      ]
     },
     "metadata": {},
     "output_type": "display_data"
    },
    {
     "name": "stdout",
     "output_type": "stream",
     "text": [
      "<pynq.overlay.DefaultIP object at 0xae8d2b90>\n",
      "RegisterMap {\n",
      "  CTRL = Register(AP_START=0, AP_DONE=0, AP_IDLE=1, AP_READY=0, RESERVED_1=0, AUTO_RESTART=0, RESERVED_2=0),\n",
      "  GIER = Register(Enable=0, RESERVED=0),\n",
      "  IP_IER = Register(CHAN0_INT_EN=0, CHAN1_INT_EN=0, RESERVED=0),\n",
      "  IP_ISR = Register(CHAN0_INT_ST=0, CHAN1_INT_ST=0, RESERVED=0),\n",
      "  cancel_i = Register(cancel_i=0),\n",
      "  cancel_o = Register(cancel_o=0),\n",
      "  cancel_o_ctrl = Register(cancel_o_ap_vld=0, RESERVED=0)\n",
      "}\n",
      "0x0\n"
     ]
    }
   ],
   "source": [
    "import sys\n",
    "sys.path.append('../../base')\n",
    "\n",
    "from pynq import Overlay, Xlnk\n",
    "import pynq.lib.dma\n",
    "\n",
    "overlay = Overlay('project_10.bit')\n",
    "dma = overlay.demodulator.dma\n",
    "demod = overlay.demodulator.demod\n",
    "print(demod)\n",
    "print(demod.register_map)\n",
    "print(demod.register_map.cancel_o)"
   ]
  },
  {
   "cell_type": "markdown",
   "metadata": {},
   "source": [
    "## Implementing HDLC\n",
    "\n",
    "Below is the implementation of the AFSK demodulator in Python.  We are now going to remove the HDLC code from our existing project.  We need to make a significant change to the Python code here.  We are no longer writing X items and reading back X items.  We are now feeding in audio data and will occassionally get back a packet.  The packet code will need to be dealt with asynchronously.\n",
    "\n",
    "Luckily, the Pynq environment fully supports Python's asyncio interface for DMA operations.  When the packet arrive, we will decode the AX.25 data and print it, just like before."
   ]
  },
  {
   "cell_type": "code",
   "execution_count": 3,
   "metadata": {
    "scrolled": true
   },
   "outputs": [
    {
     "name": "stdout",
     "output_type": "stream",
     "text": [
      "Starting...\n",
      "1 WA6YLB-8>APRS,N6EX-11:$ULTW00000000----0000----000086A00001----0000000000000000?? 85\n",
      "2 KD6FVP-4>APS224,N6EX-2,WIDE1-1:>152343z[224]*We know most of your faults!!!? 78\n",
      "3 KD6FVP-4>APS224,N6EX-2,WIDE1-1:>152343z[224]*We know most of your faults!!!? 78\n",
      "4 N6XQY-8>GPSLJ,RELAY,WIDE2-5:$GPRMC,013641.06,A,3348.1607,N,11807.4631,W,34.0,090.5,231105,13.,E*73? 104\n",
      "5 WA6YLB>APRX46,WA6YLB-14,W6SCE-5:>081839z wa6ylb@theworks.com? 62\n",
      "6 KC6HUR-2>S4QVYV,W6SCE-5:'.4&l-/k/]\"7q}? 41\n",
      "7 N6XQY-8>GPSLJ,N6EX-9:$GPRMC,013641.06,A,3348.1607,N,11807.4631,W,34.0,090.5,231105,13.,E*73? 97\n",
      "8 KC6BLF-12>S4PWYS,N6EX-11:'-U l{(u/]\"5\\}Lost in the West!? 58\n",
      "9 K6KMA-2>GPSLK,N6EX-3:$GPRMC,013647,A,3350.076,N,11806.996,W,028.3,180.5,231105,013.5,E*69?? 96\n",
      "10 AE6GR-14>S4PXYW,WIDE2-5:'._|l tv/]\"6[}? 41\n",
      "11 AE6GR-14>S4PXYW,N6EX-3:'._|l tv/]\"6[}? 41\n",
      "12 AE6MP>SS5PPQ-4,WIDE2-5:`.](n->>/\"4W} 39\n",
      "13 AE6MP>SS5PPQ-4,N6EX-9:`.](n->>/\"4W} 39\n",
      "14 AE6MP>SS5PPQ-4,N6EX-3:`.](n->>/\"4W} 39\n",
      "15 AE6MP>SS5PPQ-2,N6EX-11:`.](n->>/\"4W} 39\n",
      "16 WA6YLB-8>S6QWSY,WA6YLB-14,N6EX-11:'/`0n>vR/]\"56}? 48\n",
      "17 K6LAR-2>APRS,N6EX-3:$GPGGA,040332,3405.438,N,11801.836,W,1,06,1.1,114.2,M,-31.5,M,,*75?? 94\n",
      "18 KD6UZM-14>S3UWTS,WB6JAR-4,WIDE2-3:`-)?l ?v\\\":r} 46\n",
      "19 KD6UZM-14>S3UWTS,WB6JAR-4,N6EX-3:`-)?l ?v\\\":r} 46\n",
      "20 N6QFD-2>GPSLJ,N6EX-11:$GPRMC,013714,A,3408.6360,N,11812.0716,W,0.0,88.1,231105,13.5,E,D*09?? 96\n",
      "21 N6EX-6>APJI23,N6EX-8,SOCAL1-3:}W6AHM>APRS,TCPIP,N6EX-3*:@230135z3350.28N/11818.85W_269/010g010t065r000P000p000h64b10155v6 124\n",
      "22 N6EX-6>APJI23,N6EX-8,SOCAL1-3:}W6AHM>APRS,TCPIP,N6EX-3*:@230135z3350.28N/11818.85W_269/010g010t065r000P000p000h64b10155v6 124\n",
      "23 N6EX-6>APJI23,N6EX-2,SOCAL1-1:}W6AHM>APRS,TCPIP,N6EX-3*:@230135z3350.28N/11818.85W_269/010g010t065r000P000p000h64b10155v6 124\n",
      "24 N6EX-6>APJI23,W6SCE-4,SOCAL1-1:}W6AHM>APRS,TCPIP,N6EX-3*:@230135z3350.28N/11818.85W_269/010g010t065r000P000p000h64b10155v6 124\n",
      "25 KF6DQ-10>S4QUYZ,W6SCE-5:'.Kel ~v/]\"6A}TM-D700? 48\n",
      "26 KF6DQ-10>S4QUYZ,W6SCE-5:'.Kel ~v/]\"6A}TM-D700? 48\n",
      "27 KF6YVS-12>APT202,WB6JAR-4,WIDE3-5:!0000.000/00000.000>000/000 60\n",
      "28 KD6EDM>APW275,N6EX-9:=3340.25N/11754.88WKPHG2100/WinAPRS 2.7.5 -CAORACOSTA ME-275-<530>? 93\n",
      "29 W6SCE-5>BEACON,:>WIDE2-2 is best path in SoCal? 50\n",
      "30 NZ6L-2>SS4WVR,WIDE2-5:`.01l#%k/\"4E}Monitoring 146.235(+)127.3 65\n",
      "31 NZ6L-2>SS4WVR,N6EX-9:`.01l#%k/\"4E}Monitoring 146.235(+)127.3 65\n",
      "32 WD6BYM-2>ID,N6EX-11:WD6BYM-1/R WIDE/D? 44\n",
      "33 WA8LMF>APU25N,WIDE1-3:>202337zhttp://wa8lmf.com? 52\n",
      "34 WA8LMF>APU25N,N6EX-11:>202337zhttp://wa8lmf.com? 52\n",
      "35 WA8LMF>APU25N,N6EX-3:>202337zhttp://wa8lmf.com? 52\n",
      "36 WA6TK>ID,N6EX-9:WA6TK/R RELAY/D KC7FD-1/B? 52\n",
      "37 WA6TK>ID,N6EX-4,WB6JAR-4,WIDE2-1:WA6TK/R RELAY/D KC7FD-1/B? 66\n",
      "38 KA1WCC-2>ST0XPR,N6EX-3:`-T0m4?>/ 35\n",
      "39 WA6TK>ID,W6SCE-5:WA6TK/R RELAY/D KC7FD-1/B? 52\n",
      "40 K7GIL-2>BEACON,WB6JAR-4,WIDE3-4,N7ZEV-3:!3436.62NN11717.30W#PHG5760/A=004530/W-R-T-CA Victorville, CA? 102\n",
      "41 K7GIL-2>BEACON,N6EX-8,N7ZEV-3:!3436.62NN11717.30W#PHG5760/A=004530/W-R-T-CA Victorville, CA? 95\n",
      "42 KF6MDF-4>GPS,WIDE2-5:$GPRMC,013801,V,3354.0188,N,11805.8904,W,000.0,000.0,301105,013.7,E*73?? 98\n",
      "43 KF6MDF-4>GPS,N6EX-3:$GPRMC,013801,V,3354.0188,N,11805.8904,W,000.0,000.0,301105,013.7,E*73?? 98\n",
      "44 KB6CYS>BEACON,WIDE3-7:WEATHER STATION ON-LINE? 50\n",
      "45 KB6CYS>BEACON,N6EX-9:WEATHER STATION ON-LINE? 50\n",
      "46 KB6CYS>BEACON,N6EX-3:WEATHER STATION ON-LINE? 50\n",
      "47 KD6LAY>APW277,W6PVG-6,N6EX-11:=3438.88N/11815.40WyPHG5660/WinAPRS 2.7.7 -277-<630>? 86\n",
      "48 KD6LAY>APW277,W6PVG-6,W6SCE-5:=3438.88N/11815.40WyPHG5660/WinAPRS 2.7.7 -277-<630>? 86\n",
      "49 KF6WJS-12>S4PWYR,WIDE2-5:`.a\"l!^k/\"6b} 39\n",
      "50 KF6WJS-12>S4PWYR,N6EX-9:`.a\"l!^k/\"6b} 39\n",
      "Done writing\n",
      "Done Reading 1 2\n",
      "0x0\n",
      "Total execution time: 0.6369657516479492\n"
     ]
    }
   ],
   "source": [
    "import numpy as np\n",
    "from scipy.io.wavfile import read\n",
    "from AX25 import AX25\n",
    "import time\n",
    "import asyncio\n",
    "import concurrent.futures\n",
    "\n",
    "block_size = 1024*1024\n",
    "\n",
    "xlnk = Xlnk()\n",
    "\n",
    "async def read_packet():\n",
    "    count = 0\n",
    "    with xlnk.cma_array(shape=(4096,), dtype=np.uint8) as in_buffer:\n",
    "        while True:\n",
    "            dma.recvchannel.transfer(in_buffer)\n",
    "            await dma.recvchannel.wait_async()\n",
    "            in_buffer.invalidate();\n",
    "            received = dma.recvchannel._mmio.read(dma.recvchannel._offset + 0x28)\n",
    "            # print(\"received\", received, in_buffer[received - 1])\n",
    "            if in_buffer[received - 1] & 2:\n",
    "                print(\"Done Reading\", received, in_buffer[received - 1])\n",
    "                print(demod.register_map.cancel_o)\n",
    "                demod.register_map.cancel_i = 0\n",
    "                demod.register_map.CTRL = 0x01 # START ONE to cancel cancellation\n",
    "                break\n",
    "            if not (received > 12 and in_buffer[received - 1] & 1):\n",
    "                # print(\"Bad packet\", in_buffer[received - 1])\n",
    "                continue\n",
    "            else:\n",
    "                count += 1\n",
    "            packet = ''.join(str(s, encoding='Latin-1') for s in in_buffer[:received-3])\n",
    "            try:\n",
    "                print(count, AX25(packet), received)\n",
    "                # sys.stdout.write('\\r%05d' % count)\n",
    "            except:\n",
    "                print(\"decode error: \", packet, received)\n",
    "\n",
    "async def write_audio(data):\n",
    "    demod.register_map.CTRL = 0x81 # START|AUTO-RESTART while writing data\n",
    "    with xlnk.cma_array(shape=(block_size,), dtype=np.int16) as out_buffer:\n",
    "        for i in range(0, len(data), block_size):\n",
    "            size = len(data[i:i+block_size])\n",
    "            if size != block_size: break\n",
    "            out_buffer[:] = data[i:i+block_size]\n",
    "            out_buffer.flush();\n",
    "            dma.sendchannel.transfer(out_buffer)\n",
    "            await dma.sendchannel.wait_async()\n",
    "    \n",
    "    with xlnk.cma_array(shape=(size,), dtype=np.int16) as out_buffer:\n",
    "        out_buffer[:] = data[i:i+size]\n",
    "        dma.sendchannel.transfer(out_buffer)\n",
    "        await dma.sendchannel.wait_async()\n",
    "\n",
    "    print(\"Done writing\")\n",
    "    demod.register_map.CTRL = 0x00 # STOP\n",
    "    demod.register_map.cancel_i = 1\n",
    "    demod.register_map.CTRL = 0x01 # START ONE for cancellation\n",
    "\n",
    "def run():\n",
    "    audio_file = read('../../base/TNC_Test_Ver-1.101-26400-1min.wav')\n",
    "    sample_rate = audio_file[0]\n",
    "    audio_data = np.append(audio_file[1], np.zeros(120, dtype=int))\n",
    "\n",
    "    print(\"Starting...\")\n",
    "    start_time = time.time()\n",
    "\n",
    "    # demodulate the audio data\n",
    "    loop = asyncio.get_event_loop()\n",
    "    loop.run_until_complete(asyncio.gather(\n",
    "        read_packet(),\n",
    "        write_audio(audio_data)\n",
    "    ))\n",
    "    stop_time = time.time()\n",
    "    sw_exec_time = stop_time - start_time\n",
    "    print('Total execution time:', sw_exec_time)\n",
    "\n",
    "run()"
   ]
  },
  {
   "cell_type": "code",
   "execution_count": null,
   "metadata": {},
   "outputs": [],
   "source": [
    "xlnk.xlnk_reset()"
   ]
  },
  {
   "cell_type": "code",
   "execution_count": null,
   "metadata": {},
   "outputs": [],
   "source": [
    "ctrl = dma.recvchannel._mmio.read(dma.recvchannel._offset)\n",
    "print(ctrl)\n",
    "dma.recvchannel._mmio.write(dma.recvchannel._offset, (ctrl | 4) & 0xFFFFFFFE)\n",
    "print(dma.recvchannel._mmio.read(dma.recvchannel._offset+0x04))\n",
    "dma.recvchannel.start()\n",
    "dma.sendchannel.start()"
   ]
  },
  {
   "cell_type": "code",
   "execution_count": null,
   "metadata": {},
   "outputs": [],
   "source": [
    "dma.recvchannel.stop()\n",
    "dma.recvchannel.start()\n",
    "with xlnk.cma_array(shape=(4096,), dtype=np.uint8) as in_buffer:\n",
    "    while True:\n",
    "        start_time = time.time()\n",
    "        dma.recvchannel.transfer(in_buffer)\n",
    "        dma.recvchannel.wait()\n",
    "        dma.recvchannel.stop()\n",
    "        dma.recvchannel.start()\n",
    "        received = dma.recvchannel._mmio.read(dma.recvchannel._offset + 0x28)\n",
    "        print(\"Received: \", received)\n",
    "        packet = ''.join(str(s, encoding='Latin-1') for s in in_buffer[:received])\n",
    "        print(AX25(packet))\n",
    "        stop_time = time.time()\n",
    "        sw_exec_time = stop_time - start_time\n",
    "        print('FPGA read_packet execution time: ',sw_exec_time)\n"
   ]
  },
  {
   "cell_type": "code",
   "execution_count": null,
   "metadata": {},
   "outputs": [],
   "source": [
    "demod.register_map.CTRL = 0"
   ]
  },
  {
   "cell_type": "code",
   "execution_count": null,
   "metadata": {},
   "outputs": [],
   "source": [
    "print(demod.register_map)"
   ]
  },
  {
   "cell_type": "code",
   "execution_count": null,
   "metadata": {},
   "outputs": [],
   "source": [
    "demod?"
   ]
  },
  {
   "cell_type": "code",
   "execution_count": null,
   "metadata": {},
   "outputs": [],
   "source": [
    "print(demod.register_map.CTRL.AUTO_RESTART)"
   ]
  },
  {
   "cell_type": "code",
   "execution_count": null,
   "metadata": {},
   "outputs": [],
   "source": []
  }
 ],
 "metadata": {
  "kernelspec": {
   "display_name": "Python 3",
   "language": "python",
   "name": "python3"
  },
  "language_info": {
   "codemirror_mode": {
    "name": "ipython",
    "version": 3
   },
   "file_extension": ".py",
   "mimetype": "text/x-python",
   "name": "python",
   "nbconvert_exporter": "python",
   "pygments_lexer": "ipython3",
   "version": "3.6.5"
  }
 },
 "nbformat": 4,
 "nbformat_minor": 2
}
