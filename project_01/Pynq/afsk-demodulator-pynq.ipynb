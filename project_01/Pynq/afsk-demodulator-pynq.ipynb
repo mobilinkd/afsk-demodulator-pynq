{
 "cells": [
  {
   "cell_type": "markdown",
   "metadata": {},
   "source": [
    "# AFSK Demodulator\n",
    "## Step 1: Basic AXI Streaming\n",
    "\n",
    "This is a Pynq portion of the AFSK demodulator project.  We will be using the FPGA overlay that we created in Vivado.\n",
    "\n",
    "At this point we have created the bitstream for \"project_01\" and copied the bitstream, TCL wrapper, and hardware hand-off file to the Pynq board.\n",
    "\n",
    "We need to load two Python pynq modules, one for managing the overlay, and the others for managing DMA buffers. We also need to load `numpy` as Pynq relies on the numpy data types.  We then load the bitstream and get a handle to the dma controller."
   ]
  },
  {
   "cell_type": "code",
   "execution_count": 15,
   "metadata": {},
   "outputs": [
    {
     "data": {
      "application/javascript": [
       "\n",
       "require(['notebook/js/codecell'], function(codecell) {\n",
       "  codecell.CodeCell.options_default.highlight_modes[\n",
       "      'magic_text/x-csrc'] = {'reg':[/^%%microblaze/]};\n",
       "  Jupyter.notebook.events.one('kernel_ready.Kernel', function(){\n",
       "      Jupyter.notebook.get_cells().map(function(cell){\n",
       "          if (cell.cell_type == 'code'){ cell.auto_highlight(); } }) ;\n",
       "  });\n",
       "});\n"
      ]
     },
     "metadata": {},
     "output_type": "display_data"
    }
   ],
   "source": [
    "from pynq import Overlay, Xlnk\n",
    "import numpy as np\n",
    "\n",
    "overlay = Overlay('project_01.bit')\n",
    "dma = overlay.demodulator.afsk_dma"
   ]
  },
  {
   "cell_type": "markdown",
   "metadata": {},
   "source": [
    "Now we need to construct the arrays used to transfer the data via DMA and initialize the data."
   ]
  },
  {
   "cell_type": "code",
   "execution_count": 18,
   "metadata": {},
   "outputs": [],
   "source": [
    "xlnk = Xlnk()\n",
    "out_buffer = xlnk.cma_array(shape=(264,), dtype=np.int16)\n",
    "in_buffer = xlnk.cma_array(shape=(264,), dtype=np.int16)\n",
    "\n",
    "for i in range(264):\n",
    "    out_buffer[i] = 16"
   ]
  },
  {
   "cell_type": "markdown",
   "metadata": {},
   "source": [
    "We then send the data, initiate a read, wait for both transfers to complete, and then print the output."
   ]
  },
  {
   "cell_type": "code",
   "execution_count": 19,
   "metadata": {},
   "outputs": [
    {
     "name": "stdout",
     "output_type": "stream",
     "text": [
      "[10 10 10 10 10 10 10 10 10 10 10 10 10 10 10 10 10 10 10 10 10 10 10 10 10\n",
      " 10 10 10 10 10 10 10 10 10 10 10 10 10 10 10 10 10 10 10 10 10 10 10 10 10\n",
      " 10 10 10 10 10 10 10 10 10 10 10 10 10 10 10 10 10 10 10 10 10 10 10 10 10\n",
      " 10 10 10 10 10 10 10 10 10 10 10 10 10 10 10 10 10 10 10 10 10 10 10 10 10\n",
      " 10 10 10 10 10 10 10 10 10 10 10 10 10 10 10 10 10 10 10 10 10 10 10 10 10\n",
      " 10 10 10 10 10 10 10 10 10 10 10 10 10 10 10 10 10 10 10 10 10 10 10 10 10\n",
      " 10 10 10 10 10 10 10 10 10 10 10 10 10 10 10 10 10 10 10 10 10 10 10 10 10\n",
      " 10 10 10 10 10 10 10 10 10 10 10 10 10 10 10 10 10 10 10 10 10 10 10 10 10\n",
      " 10 10 10 10 10 10 10 10 10 10 10 10 10 10 10 10 10 10 10 10 10 10 10 10 10\n",
      " 10 10 10 10 10 10 10 10 10 10 10 10 10 10 10 10 10 10 10 10 10 10 10 10 10\n",
      " 10 10 10 10 10 10 10 10 10 10 10 10 10 10] 264\n"
     ]
    }
   ],
   "source": [
    "dma.sendchannel.transfer(out_buffer)\n",
    "dma.recvchannel.transfer(in_buffer)\n",
    "dma.sendchannel.wait()\n",
    "dma.recvchannel.wait()\n",
    "\n",
    "print(in_buffer, len(in_buffer))"
   ]
  },
  {
   "cell_type": "markdown",
   "metadata": {},
   "source": [
    "Note that our FPGA project did exactly what it was designed to do.\n",
    "\n",
    "$y[d] = \\frac{5}{8} x[d]$\n",
    "\n",
    "## Next Steps\n",
    "\n",
    "Now that we have an overlay for Pynq built and working, we will take the AFSK demodulator and start moving components of that into the FPGA fabric.\n",
    "\n",
    "As a quick refresher, here are the processing steps in the demodulator:\n",
    "\n",
    " 1. Band-pass filter the audio data to remove as much noise as possible.\n",
    " 1. Use a comparator to convert the analog signal into a bit stream.\n",
    " 1. Delay the binary data.\n",
    " 1. Multiply the bit stream with the delayed version using XOR (comb filter).\n",
    " 1. Low-pass filter the PWM-like output of the comb filter.\n",
    " 1. Use a comparator to convert the comparator output into a bit stream.\n",
    " 1. Use a digital PLL to perform clock recovery.\n",
    "    1. Implement an IIR filter for the PLL lock and loop filters.\n",
    "    1. Implement a hysteresis function for the PLL lock control.\n",
    " 1. Decode the NRZI bitstream into data.\n",
    " 1. Decode the data bitstream into HDLC packets.\n",
    "    1. Implement a CRC-CCITT function to compute the packet checksum.\n",
    "\n",
    "## Current Implementation\n",
    "\n",
    "Below is the current implementation of the AFSK demodulator in Python."
   ]
  },
  {
   "cell_type": "code",
   "execution_count": 16,
   "metadata": {},
   "outputs": [
    {
     "name": "stdout",
     "output_type": "stream",
     "text": [
      "Software FIR execution time:  0.029716014862060547\n",
      "Software FIR execution time:  0.0024309158325195312\n",
      "Software FIR execution time:  0.022467613220214844\n",
      "Software FIR execution time:  0.002061605453491211\n",
      "KD6FVP-4>APS224,N6EX-2,WIDE1-1:>152343z[224]*We know most of your faults!!!?\n"
     ]
    }
   ],
   "source": [
    "import sys\n",
    "sys.path.append('../../base')\n",
    "\n",
    "import numpy as np\n",
    "from scipy.signal import lfiltic, lfilter, firwin\n",
    "from scipy.io.wavfile import read\n",
    "from DigitalPLL import DigitalPLL\n",
    "from HDLC import HDLC\n",
    "from AX25 import AX25\n",
    "import time\n",
    "\n",
    "class fir_filter(object):\n",
    "    def __init__(self, coeffs):\n",
    "        self.coeffs = coeffs\n",
    "        self.zl = lfiltic(self.coeffs, 32768.0, [], [])\n",
    "    def __call__(self, data):\n",
    "        start_time = time.time()\n",
    "        result, self.zl = lfilter(self.coeffs, 32768.0, data, -1, self.zl)\n",
    "        stop_time = time.time()\n",
    "        sw_exec_time = stop_time - start_time\n",
    "        print('Software FIR execution time: ',sw_exec_time)\n",
    "        return result\n",
    "\n",
    "class NRZI:\n",
    "\n",
    "    def __init__(self):\n",
    "\n",
    "        self.state = False\n",
    "\n",
    "    def __call__(self, x):\n",
    "        \n",
    "        result = (x == self.state)\n",
    "        self.state = x\n",
    "        return result\n",
    "\n",
    "\n",
    "audio_file = read('../../base/TNC_Test_Ver-1.102-26400-1sec.wav')\n",
    "sample_rate = audio_file[0]\n",
    "audio_data = audio_file[1]\n",
    "delay = 12 # ~446us\n",
    "\n",
    "bpf_coeffs = np.array(firwin(141, [1100.0/(sample_rate/2), 2300.0/(sample_rate/2)], width = None,\n",
    "        pass_zero = False, scale = True, window='hann') * 32768, dtype=int)\n",
    "\n",
    "bpf = fir_filter(bpf_coeffs)\n",
    "\n",
    "lpf_coeffs = np.array(firwin(101, [760.0/(sample_rate/2)], width = None,\n",
    "        pass_zero = True, scale = True, window='hann') * 32768, dtype=int)\n",
    "\n",
    "lpf = fir_filter(lpf_coeffs)\n",
    "\n",
    "filter_delay = len(bpf_coeffs)//2\n",
    "\n",
    "# Band-pass filter the audio data\n",
    "f = np.append(bpf(audio_data[:26400]), bpf(np.zeros(filter_delay)))[filter_delay:]\n",
    "# Digitize the data\n",
    "d = np.array([int(x > 0) for x in f])\n",
    "# Delay the data\n",
    "a = d[delay:]\n",
    "# XOR the digitized data with the delayed version\n",
    "x = np.logical_xor(d[:0-delay], a)\n",
    "# Low-pass filter the PWM signal\n",
    "c = np.append(lpf(x-0.5), lpf(np.zeros(len(lpf_coeffs)//2)))[len(lpf_coeffs)//2:]\n",
    "# Digitize the tone transistions\n",
    "dx = np.array([int(x > 0) for x in c])\n",
    "# Create the PLL\n",
    "pll = DigitalPLL(sample_rate, 1200.0)\n",
    "\n",
    "locked = np.zeros(len(dx), dtype=int)\n",
    "sample = np.zeros(len(dx), dtype=int)\n",
    "\n",
    "# Clock recovery\n",
    "for i in range(len(dx)):\n",
    "    sample[i] = pll(dx[i])\n",
    "    locked[i] = pll.locked()\n",
    "    \n",
    "nrzi = NRZI()\n",
    "\n",
    "data = [int(nrzi(x)) for x,y in zip(dx, sample) if y]\n",
    "\n",
    "hdlc = HDLC()\n",
    "\n",
    "for b,s,l in zip(dx, sample, locked):\n",
    "    if s:\n",
    "        packet = hdlc(nrzi(b), l)\n",
    "        if packet is not None:\n",
    "            print(AX25(packet[1]))\n"
   ]
  },
  {
   "cell_type": "code",
   "execution_count": null,
   "metadata": {},
   "outputs": [],
   "source": []
  }
 ],
 "metadata": {
  "kernelspec": {
   "display_name": "Python 3",
   "language": "python",
   "name": "python3"
  },
  "language_info": {
   "codemirror_mode": {
    "name": "ipython",
    "version": 3
   },
   "file_extension": ".py",
   "mimetype": "text/x-python",
   "name": "python",
   "nbconvert_exporter": "python",
   "pygments_lexer": "ipython3",
   "version": "3.6.5"
  }
 },
 "nbformat": 4,
 "nbformat_minor": 2
}
