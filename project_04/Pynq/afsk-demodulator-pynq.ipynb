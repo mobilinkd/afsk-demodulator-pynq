{
 "cells": [
  {
   "cell_type": "markdown",
   "metadata": {},
   "source": [
    "#### AFSK Demodulator\n",
    "## Step 4: Low Pass Filter\n",
    "\n",
    "This is a Pynq portion of the AFSK demodulator project.  We will be using the FPGA overlay that we created in Vivado.\n",
    "\n",
    "At this point we have created the bitstream for \"project_04\" and copied the bitstream, TCL wrapper, and hardware hand-off file to the Pynq board.\n",
    "\n",
    "Let's first verify that we can load the module."
   ]
  },
  {
   "cell_type": "code",
   "execution_count": 6,
   "metadata": {},
   "outputs": [],
   "source": [
    "from pynq import Overlay, Xlnk\n",
    "import numpy as np\n",
    "import pynq.lib.dma\n",
    "\n",
    "overlay = Overlay('project_04.bit')\n",
    "dma = overlay.demodulator.dma"
   ]
  },
  {
   "cell_type": "markdown",
   "metadata": {},
   "source": [
    "## Accellerating FIR Filters\n",
    "\n",
    "Below is the implementation of the AFSK demodulator in Python.  We are now going to remove the low pass filter code and replace it with new code."
   ]
  },
  {
   "cell_type": "code",
   "execution_count": 8,
   "metadata": {},
   "outputs": [
    {
     "name": "stdout",
     "output_type": "stream",
     "text": [
      "FPGA demodulator execution time:  0.07432436943054199\n",
      "FPGA demodulator execution time:  0.01096963882446289\n",
      "[1 1 1 1 1 1 1 1 1 1 1 1 1 1 1 1] 28920\n",
      "KD6FVP-4>APS224,N6EX-2,WIDE1-1:>152343z[224]*We know most of your faults!!!?\n"
     ]
    }
   ],
   "source": [
    "import sys\n",
    "sys.path.append('../../base')\n",
    "\n",
    "import numpy as np\n",
    "from scipy.signal import lfiltic, lfilter, firwin\n",
    "from scipy.io.wavfile import read\n",
    "from DigitalPLL import DigitalPLL\n",
    "from HDLC import HDLC\n",
    "from AX25 import AX25\n",
    "import time\n",
    "\n",
    "block_size = 2640\n",
    "\n",
    "xlnk = Xlnk()\n",
    "\n",
    "def demod(data):\n",
    "    start_time = time.time()\n",
    "    output = np.array([],dtype=np.bool)\n",
    "    with xlnk.cma_array(shape=(block_size,), dtype=np.int16) as out_buffer, \\\n",
    "        xlnk.cma_array(shape=(block_size,), dtype=np.int8) as in_buffer:\n",
    "\n",
    "        for i in range(0, len(data), block_size):\n",
    "            out_buffer[:len(data[i:i+block_size])] = data[i:i+block_size]\n",
    "            dma.sendchannel.transfer(out_buffer)\n",
    "            dma.recvchannel.transfer(in_buffer)\n",
    "            dma.sendchannel.wait()\n",
    "            dma.recvchannel.wait()\n",
    "            output = np.append(output, in_buffer)\n",
    "            \n",
    "    stop_time = time.time()\n",
    "    sw_exec_time = stop_time - start_time\n",
    "    print('FPGA demodulator execution time: ',sw_exec_time)\n",
    "    return output\n",
    "\n",
    "class NRZI:\n",
    "\n",
    "    def __init__(self):\n",
    "\n",
    "        self.state = False\n",
    "\n",
    "    def __call__(self, x):\n",
    "        \n",
    "        result = (x == self.state)\n",
    "        self.state = x\n",
    "        return result\n",
    "\n",
    "\n",
    "audio_file = read('../../base/TNC_Test_Ver-1.102-26400-1sec.wav')\n",
    "sample_rate = audio_file[0]\n",
    "audio_data = audio_file[1]\n",
    "delay = 12 # ~446us\n",
    "\n",
    "bpf_delay = 70\n",
    "lpf_delay = 50\n",
    "filter_delay = bpf_delay + lpf_delay\n",
    "\n",
    "# demodulate the audio data\n",
    "d = demod(audio_data[:26400])\n",
    "\n",
    "# like before, the sign has changed.  We need to revert that before it goes into the PLL\n",
    "dx = np.append(d, demod(np.zeros(filter_delay)))[filter_delay:] * -1\n",
    "\n",
    "print(dx[:16], len(dx))\n",
    "\n",
    "# Create the PLL\n",
    "pll = DigitalPLL(sample_rate, 1200.0)\n",
    "\n",
    "locked = np.zeros(len(dx), dtype=int)\n",
    "sample = np.zeros(len(dx), dtype=int)\n",
    "\n",
    "# Clock recovery\n",
    "for i in range(len(dx)):\n",
    "    sample[i] = pll(dx[i])\n",
    "    locked[i] = pll.locked()\n",
    "    \n",
    "nrzi = NRZI()\n",
    "\n",
    "data = [int(nrzi(x)) for x,y in zip(dx, sample) if y]\n",
    "\n",
    "hdlc = HDLC()\n",
    "\n",
    "for b,s,l in zip(dx, sample, locked):\n",
    "    if s:\n",
    "        packet = hdlc(nrzi(b), l)\n",
    "        if packet is not None:\n",
    "            print(AX25(packet[1]))\n"
   ]
  },
  {
   "cell_type": "code",
   "execution_count": 3,
   "metadata": {},
   "outputs": [],
   "source": [
    "# xlnk.xlnk_reset()"
   ]
  },
  {
   "cell_type": "code",
   "execution_count": null,
   "metadata": {},
   "outputs": [],
   "source": []
  }
 ],
 "metadata": {
  "kernelspec": {
   "display_name": "Python 3",
   "language": "python",
   "name": "python3"
  },
  "language_info": {
   "codemirror_mode": {
    "name": "ipython",
    "version": 3
   },
   "file_extension": ".py",
   "mimetype": "text/x-python",
   "name": "python",
   "nbconvert_exporter": "python",
   "pygments_lexer": "ipython3",
   "version": "3.6.5"
  }
 },
 "nbformat": 4,
 "nbformat_minor": 2
}
