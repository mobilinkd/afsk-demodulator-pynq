{
 "cells": [
  {
   "cell_type": "markdown",
   "metadata": {},
   "source": [
    "# AFSK Demodulator\n",
    "## Step 2: Band-Pass FIR Filter\n",
    "\n",
    "This is a Pynq portion of the AFSK demodulator project.  We will be using the FPGA overlay that we created in Vivado.\n",
    "\n",
    "At this point we have created the bitstream for \"project_02\" and copied the bitstream, TCL wrapper, and hardware hand-off file to the Pynq board.\n",
    "\n",
    "Let's first verify that we can load the module."
   ]
  },
  {
   "cell_type": "code",
   "execution_count": 2,
   "metadata": {},
   "outputs": [
    {
     "ename": "ModuleNotFoundError",
     "evalue": "No module named 'pynq'",
     "output_type": "error",
     "traceback": [
      "\u001b[0;31m---------------------------------------------------------------------------\u001b[0m",
      "\u001b[0;31mModuleNotFoundError\u001b[0m                       Traceback (most recent call last)",
      "\u001b[0;32m<ipython-input-2-b8c56ff6ad55>\u001b[0m in \u001b[0;36m<module>\u001b[0;34m()\u001b[0m\n\u001b[0;32m----> 1\u001b[0;31m \u001b[0;32mfrom\u001b[0m \u001b[0mpynq\u001b[0m \u001b[0;32mimport\u001b[0m \u001b[0mOverlay\u001b[0m\u001b[0;34m,\u001b[0m \u001b[0mXlnk\u001b[0m\u001b[0;34m\u001b[0m\u001b[0;34m\u001b[0m\u001b[0m\n\u001b[0m\u001b[1;32m      2\u001b[0m \u001b[0;32mimport\u001b[0m \u001b[0mnumpy\u001b[0m \u001b[0;32mas\u001b[0m \u001b[0mnp\u001b[0m\u001b[0;34m\u001b[0m\u001b[0;34m\u001b[0m\u001b[0m\n\u001b[1;32m      3\u001b[0m \u001b[0;34m\u001b[0m\u001b[0m\n\u001b[1;32m      4\u001b[0m \u001b[0moverlay\u001b[0m \u001b[0;34m=\u001b[0m \u001b[0mOverlay\u001b[0m\u001b[0;34m(\u001b[0m\u001b[0;34m'project_02.bit'\u001b[0m\u001b[0;34m)\u001b[0m\u001b[0;34m\u001b[0m\u001b[0;34m\u001b[0m\u001b[0m\n\u001b[1;32m      5\u001b[0m \u001b[0mdma\u001b[0m \u001b[0;34m=\u001b[0m \u001b[0moverlay\u001b[0m\u001b[0;34m.\u001b[0m\u001b[0mbpfilter\u001b[0m\u001b[0;34m.\u001b[0m\u001b[0mbpf_dma\u001b[0m\u001b[0;34m\u001b[0m\u001b[0;34m\u001b[0m\u001b[0m\n",
      "\u001b[0;31mModuleNotFoundError\u001b[0m: No module named 'pynq'"
     ]
    }
   ],
   "source": [
    "from pynq import Overlay, Xlnk\n",
    "import numpy as np\n",
    "\n",
    "overlay = Overlay('project_02.bit')\n",
    "dma = overlay.bpfilter.bpf_dma"
   ]
  },
  {
   "cell_type": "markdown",
   "metadata": {},
   "source": [
    "## Accellerating FIR Filter\n",
    "\n",
    "Below is the implementation of the AFSK demodulator in Python.  We are going to remove the band pass filter code and replace it with new code."
   ]
  },
  {
   "cell_type": "code",
   "execution_count": 1,
   "metadata": {},
   "outputs": [
    {
     "ename": "ModuleNotFoundError",
     "evalue": "No module named 'pynq'",
     "output_type": "error",
     "traceback": [
      "\u001b[0;31m---------------------------------------------------------------------------\u001b[0m",
      "\u001b[0;31mModuleNotFoundError\u001b[0m                       Traceback (most recent call last)",
      "\u001b[0;32m<ipython-input-1-4f0fa2b29d49>\u001b[0m in \u001b[0;36m<module>\u001b[0;34m()\u001b[0m\n\u001b[1;32m     10\u001b[0m \u001b[0;32mimport\u001b[0m \u001b[0mtime\u001b[0m\u001b[0;34m\u001b[0m\u001b[0;34m\u001b[0m\u001b[0m\n\u001b[1;32m     11\u001b[0m \u001b[0;34m\u001b[0m\u001b[0m\n\u001b[0;32m---> 12\u001b[0;31m \u001b[0;32mfrom\u001b[0m \u001b[0mpynq\u001b[0m \u001b[0;32mimport\u001b[0m \u001b[0mOverlay\u001b[0m\u001b[0;34m,\u001b[0m \u001b[0mXlnk\u001b[0m\u001b[0;34m\u001b[0m\u001b[0;34m\u001b[0m\u001b[0m\n\u001b[0m\u001b[1;32m     13\u001b[0m \u001b[0;32mimport\u001b[0m \u001b[0mnumpy\u001b[0m \u001b[0;32mas\u001b[0m \u001b[0mnp\u001b[0m\u001b[0;34m\u001b[0m\u001b[0;34m\u001b[0m\u001b[0m\n\u001b[1;32m     14\u001b[0m \u001b[0;34m\u001b[0m\u001b[0m\n",
      "\u001b[0;31mModuleNotFoundError\u001b[0m: No module named 'pynq'"
     ]
    }
   ],
   "source": [
    "import sys\n",
    "sys.path.append('../../base')\n",
    "\n",
    "import numpy as np\n",
    "from scipy.signal import lfiltic, lfilter, firwin\n",
    "from scipy.io.wavfile import read\n",
    "from DigitalPLL import DigitalPLL\n",
    "from HDLC import HDLC\n",
    "from AX25 import AX25\n",
    "import time\n",
    "\n",
    "from pynq import Overlay, Xlnk\n",
    "import numpy as np\n",
    "\n",
    "overlay = Overlay('project_02.bit')\n",
    "dma = overlay.bpfilter.bpf_dma\n",
    "\n",
    "block_size = 264\n",
    "\n",
    "xlnk = Xlnk()\n",
    "out_buffer = xlnk.cma_array(shape=(block_size,), dtype=np.int16)\n",
    "in_buffer = xlnk.cma_array(shape=(block_size,), dtype=np.int16)\n",
    "\n",
    "def bpf(data):\n",
    "    start_time = time.time()\n",
    "    output = np.array([],dtype=np.int16)\n",
    "    for i in range(0, len(data), block_size):\n",
    "        out_buffer[:len(data[i:i+block_size])] = data[i:i+block_size]\n",
    "        dma.sendchannel.transfer(out_buffer)\n",
    "        dma.recvchannel.transfer(in_buffer)\n",
    "        dma.sendchannel.wait()\n",
    "        dma.recvchannel.wait()\n",
    "        output = np.append(output, in_buffer)\n",
    "    stop_time = time.time()\n",
    "    sw_exec_time = stop_time - start_time\n",
    "    print('Hardware FIR execution time: ',sw_exec_time)\n",
    "    return output\n",
    "\n",
    "class fir_filter(object):\n",
    "    def __init__(self, coeffs):\n",
    "        self.coeffs = coeffs\n",
    "        self.zl = lfiltic(self.coeffs, 32768.0, [], [])\n",
    "    def __call__(self, data):\n",
    "        result, self.zl = lfilter(self.coeffs, 32768.0, data, -1, self.zl)\n",
    "        return result\n",
    "\n",
    "class NRZI:\n",
    "\n",
    "    def __init__(self):\n",
    "\n",
    "        self.state = False\n",
    "\n",
    "    def __call__(self, x):\n",
    "        \n",
    "        result = (x == self.state)\n",
    "        self.state = x\n",
    "        return result\n",
    "\n",
    "\n",
    "audio_file = read('../../base/TNC_Test_Ver-1.102-26400-1sec.wav')\n",
    "sample_rate = audio_file[0]\n",
    "audio_data = audio_file[1]\n",
    "delay = 12 # ~446us\n",
    "\n",
    "\n",
    "lpf_coeffs = np.array(firwin(101, [760.0/(sample_rate/2)], width = None,\n",
    "        pass_zero = True, scale = True, window='hann') * 32768, dtype=int)\n",
    "\n",
    "lpf = fir_filter(lpf_coeffs)\n",
    "\n",
    "filter_delay = 70\n",
    "\n",
    "# Band-pass filter the audio data\n",
    "f = np.append(bpf(audio_data[:26400]), bpf(np.zeros(filter_delay)))[filter_delay:]\n",
    "# Digitize the data\n",
    "d = np.array([int(x > 0) for x in f])\n",
    "# Delay the data\n",
    "a = d[delay:]\n",
    "# XOR the digitized data with the delayed version\n",
    "x = np.logical_xor(d[:0-delay], a)\n",
    "# Low-pass filter the PWM signal\n",
    "c = np.append(lpf(x-0.5), lpf(np.zeros(len(lpf_coeffs)//2)))[len(lpf_coeffs)//2:]\n",
    "# Digitize the tone transistions\n",
    "dx = np.array([int(x > 0) for x in c])\n",
    "# Create the PLL\n",
    "pll = DigitalPLL(sample_rate, 1200.0)\n",
    "\n",
    "locked = np.zeros(len(dx), dtype=int)\n",
    "sample = np.zeros(len(dx), dtype=int)\n",
    "\n",
    "# Clock recovery\n",
    "for i in range(len(dx)):\n",
    "    sample[i] = pll(dx[i])\n",
    "    locked[i] = pll.locked()\n",
    "    \n",
    "nrzi = NRZI()\n",
    "\n",
    "data = [int(nrzi(x)) for x,y in zip(dx, sample) if y]\n",
    "\n",
    "hdlc = HDLC()\n",
    "\n",
    "for b,s,l in zip(dx, sample, locked):\n",
    "    if s:\n",
    "        packet = hdlc(nrzi(b), l)\n",
    "        if packet is not None:\n",
    "            print(AX25(packet[1]))\n"
   ]
  },
  {
   "cell_type": "code",
   "execution_count": null,
   "metadata": {},
   "outputs": [],
   "source": []
  }
 ],
 "metadata": {
  "kernelspec": {
   "display_name": "Python 3",
   "language": "python",
   "name": "python3"
  },
  "language_info": {
   "codemirror_mode": {
    "name": "ipython",
    "version": 3
   },
   "file_extension": ".py",
   "mimetype": "text/x-python",
   "name": "python",
   "nbconvert_exporter": "python",
   "pygments_lexer": "ipython3",
   "version": "3.7.3"
  }
 },
 "nbformat": 4,
 "nbformat_minor": 2
}
