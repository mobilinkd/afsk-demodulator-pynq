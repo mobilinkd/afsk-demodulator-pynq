{
 "cells": [
  {
   "cell_type": "markdown",
   "metadata": {},
   "source": [
    "#### AFSK Demodulator\n",
    "## Digital PLL\n",
    "\n",
    "This is a Pynq portion of the AFSK demodulator project.  We will be using the FPGA overlay that we created in Vivado.\n",
    "\n",
    "At this point we have created the bitstream for the Digital PLL and copied the bitstream, TCL wrapper, and hardware hand-off file to the Pynq board.\n",
    "\n",
    "Let's first verify that we can load the module."
   ]
  },
  {
   "cell_type": "code",
   "execution_count": 1,
   "metadata": {},
   "outputs": [
    {
     "data": {
      "application/javascript": [
       "\n",
       "require(['notebook/js/codecell'], function(codecell) {\n",
       "  codecell.CodeCell.options_default.highlight_modes[\n",
       "      'magic_text/x-csrc'] = {'reg':[/^%%microblaze/]};\n",
       "  Jupyter.notebook.events.one('kernel_ready.Kernel', function(){\n",
       "      Jupyter.notebook.get_cells().map(function(cell){\n",
       "          if (cell.cell_type == 'code'){ cell.auto_highlight(); } }) ;\n",
       "  });\n",
       "});\n"
      ]
     },
     "metadata": {},
     "output_type": "display_data"
    },
    {
     "name": "stdout",
     "output_type": "stream",
     "text": [
      "RegisterMap {\n",
      "  CTRL = Register(AP_START=0, AP_DONE=0, AP_IDLE=1, AP_READY=0, RESERVED_1=0, AUTO_RESTART=0, RESERVED_2=0),\n",
      "  GIER = Register(Enable=0, RESERVED=0),\n",
      "  IP_IER = Register(CHAN0_INT_EN=0, CHAN1_INT_EN=0, RESERVED=0),\n",
      "  IP_ISR = Register(CHAN0_INT_ST=0, CHAN1_INT_ST=0, RESERVED=0)\n",
      "}\n"
     ]
    }
   ],
   "source": [
    "from pynq import Overlay, Xlnk\n",
    "import numpy as np\n",
    "import pynq.lib.dma\n",
    "\n",
    "overlay = Overlay('digital_pll.bit')\n",
    "dma = overlay.demodulator.dma\n",
    "pll = overlay.demodulator.pll\n",
    "print(pll.register_map)"
   ]
  },
  {
   "cell_type": "markdown",
   "metadata": {},
   "source": [
    "## Implementing the Digital PLL\n",
    "\n",
    "Below is the implementation of the AFSK demodulator in Python.  We are now going to remove the digital PLL code and replace it with new code.  The new code has a slightly different interface.  We get back three bits that we need to unpack into Boolean values."
   ]
  },
  {
   "cell_type": "code",
   "execution_count": 2,
   "metadata": {},
   "outputs": [
    {
     "name": "stdout",
     "output_type": "stream",
     "text": [
      "Doing BPF...\n",
      "Digitizing audio data...\n",
      "1584120\n",
      "1584120\n",
      "Delay...\n",
      "Doing Logical XOR...\n",
      "Doing LPF...\n",
      "1584108\n",
      "Digitizing correlator output...\n"
     ]
    }
   ],
   "source": [
    "import sys\n",
    "sys.path.append('../../base')\n",
    "\n",
    "import numpy as np\n",
    "from scipy.signal import lfiltic, lfilter, firwin\n",
    "from scipy.io.wavfile import read\n",
    "from DigitalPLL import DigitalPLL\n",
    "from HDLC import HDLC\n",
    "from AX25 import AX25\n",
    "import time\n",
    "\n",
    "\n",
    "class fir_filter(object):\n",
    "    def __init__(self, coeffs):\n",
    "        self.coeffs = coeffs\n",
    "        self.zl = lfiltic(self.coeffs, 32768.0, [], [])\n",
    "    def __call__(self, data):\n",
    "        result, self.zl = lfilter(self.coeffs, 32768.0, data, -1, self.zl)\n",
    "        return result\n",
    "\n",
    "class NRZI:\n",
    "\n",
    "    def __init__(self):\n",
    "\n",
    "        self.state = False\n",
    "\n",
    "    def __call__(self, x):\n",
    "        \n",
    "        result = (x == self.state)\n",
    "        self.state = x\n",
    "        return result\n",
    "\n",
    "audio_file = read('../../base/TNC_Test_Ver-1.101-26400-1min.wav')\n",
    "sample_rate = audio_file[0]\n",
    "audio_data = audio_file[1]\n",
    "delay = 12 # ~446us\n",
    "\n",
    "bpf_coeffs = np.array(firwin(141, [1100.0/(sample_rate/2),2300.0/(sample_rate/2)], width = None,\n",
    "        pass_zero = False, scale = True, window='hann') * 32768, dtype=int)\n",
    "lpf_coeffs = np.array(firwin(101, [760.0/(sample_rate/2)], width = None,\n",
    "        pass_zero = True, scale = True, window='hann') * 32768, dtype=int)\n",
    "\n",
    "bpf = fir_filter(bpf_coeffs)\n",
    "lpf = fir_filter(lpf_coeffs)\n",
    "\n",
    "# filter_delay = 64 + 50\n",
    "\n",
    "bpf_delay = 70\n",
    "lpf_delay = 50\n",
    "filter_delay = bpf_delay + lpf_delay\n",
    "\n",
    "# Band-pass filter the audio data\n",
    "print(\"Doing BPF...\")\n",
    "f = bpf(np.append(audio_data, np.zeros(filter_delay, dtype=int)))\n",
    "# Digitize the data\n",
    "print(\"Digitizing audio data...\")\n",
    "print(len(f))\n",
    "d = np.greater_equal(f, 0)\n",
    "print(len(d))\n",
    "# Delay the data\n",
    "print(\"Delay...\")\n",
    "a = d[delay:]\n",
    "# XOR the digitized data with the delayed version\n",
    "print(\"Doing Logical XOR...\")\n",
    "x = np.logical_xor(d[:0-delay], a, dtype=int)\n",
    "# Low-pass filter the PWM signal\n",
    "print(\"Doing LPF...\")\n",
    "c = lpf(x-0.5)\n",
    "# Digitize the tone transistions\n",
    "print(len(c))\n",
    "print(\"Digitizing correlator output...\")\n",
    "dx = np.greater_equal(c, 0.0)"
   ]
  },
  {
   "cell_type": "code",
   "execution_count": 4,
   "metadata": {},
   "outputs": [
    {
     "name": "stdout",
     "output_type": "stream",
     "text": [
      "FPGA digital PLL execution time:  0.5146293640136719\n",
      "1 WA6YLB-8>APRS,N6EX-11:$ULTW00000000----0000----000086A00001----0000000000000000???P\n",
      "2 KD6FVP-4>APS224,N6EX-2,WIDE1-1:>152343z[224]*We know most of your faults!!!?q?\n",
      "3 KD6FVP-4>APS224,N6EX-2,WIDE1-1:>152343z[224]*We know most of your faults!!!???\n",
      "4 N6XQY-8>GPSLJ,RELAY,WIDE2-5:$GPRMC,013641.06,A,3348.1607,N,11807.4631,W,34.0,090.5,231105,13.,E*73??B\n",
      "5 WA6YLB>APRX46,WA6YLB-14,W6SCE-5:>081839z wa6ylb@theworks.com??f\n",
      "6 KC6HUR-2>S4QVYV,W6SCE-5:'.4&l-/k/]\"7q}???\n",
      "7 N6XQY-8>GPSLJ,N6EX-9:$GPRMC,013641.06,A,3348.1607,N,11807.4631,W,34.0,090.5,231105,13.,E*73???\n",
      "8 KC6BLF-12>S4PWYS,N6EX-11:'-U l{(u/]\"5\\}Lost in the West!?;:\n",
      "9 K6KMA-2>GPSLK,N6EX-3:$GPRMC,013647,A,3350.076,N,11806.996,W,028.3,180.5,231105,013.5,E*69????\n",
      "10 AE6GR-14>S4PXYW,WIDE2-5:'._|l tv/]\"6[}?:c\n",
      "11 AE6GR-14>S4PXYW,N6EX-3:'._|l tv/]\"6[}???\n",
      "12 AE6MP>SS5PPQ-4,WIDE2-5:`.](n->>/\"4W}??\n",
      "13 AE6MP>SS5PPQ-4,N6EX-9:`.](n->>/\"4W}??\n",
      "14 AE6MP>SS5PPQ-4,N6EX-3:`.](n->>/\"4W}??\n",
      "15 AE6MP>SS5PPQ-2,N6EX-11:`.](n->>/\"4W}??\n",
      "16 WA6YLB-8>S6QWSY,WA6YLB-14,N6EX-11:'/`0n>vR/]\"56}???\n",
      "17 K6LAR-2>APRS,N6EX-3:$GPGGA,040332,3405.438,N,11801.836,W,1,06,1.1,114.2,M,-31.5,M,,*75???1\n",
      "18 KD6UZM-14>S3UWTS,WB6JAR-4,N6EX-3:`-)?l ?v\\\":r}i?\n",
      "19 N6QFD-2>GPSLJ,N6EX-11:$GPRMC,013714,A,3408.6360,N,11812.0716,W,0.0,88.1,231105,13.5,E,D*09??v?\n",
      "20 N6EX-6>APJI23,N6EX-8,SOCAL1-3:}W6AHM>APRS,TCPIP,N6EX-3*:@230135z3350.28N/11818.85W_269/010g010t065r000P000p000h64b10155v6??\n",
      "21 N6EX-6>APJI23,N6EX-8,SOCAL1-3:}W6AHM>APRS,TCPIP,N6EX-3*:@230135z3350.28N/11818.85W_269/010g010t065r000P000p000h64b10155v6a]\n",
      "22 N6EX-6>APJI23,N6EX-2,SOCAL1-1:}W6AHM>APRS,TCPIP,N6EX-3*:@230135z3350.28N/11818.85W_269/010g010t065r000P000p000h64b10155v6??\n",
      "23 N6EX-6>APJI23,W6SCE-4,SOCAL1-1:}W6AHM>APRS,TCPIP,N6EX-3*:@230135z3350.28N/11818.85W_269/010g010t065r000P000p000h64b10155v6??\n",
      "24 KF6DQ-10>S4QUYZ,W6SCE-5:'.Kel ~v/]\"6A}TM-D700???\n",
      "25 KF6DQ-10>S4QUYZ,W6SCE-5:'.Kel ~v/]\"6A}TM-D700???\n",
      "26 KF6YVS-12>APT202,WB6JAR-4,WIDE3-5:!0000.000/00000.000>000/000??\n",
      "27 KD6EDM>APW275,N6EX-9:=3340.25N/11754.88WKPHG2100/WinAPRS 2.7.5 -CAORACOSTA ME-275-<530>???\n",
      "28 W6SCE-5>BEACON,:>WIDE2-2 is best path in SoCal?9?\n",
      "29 NZ6L-2>SS4WVR,WIDE2-5:`.01l#%k/\"4E}Monitoring 146.235(+)127.3?L\n",
      "30 NZ6L-2>SS4WVR,N6EX-9:`.01l#%k/\"4E}Monitoring 146.235(+)127.3&?\n",
      "31 WD6BYM-2>ID,N6EX-11:WD6BYM-1/R WIDE/D???\n",
      "32 WA8LMF>APU25N,WIDE1-3:>202337zhttp://wa8lmf.com???\n",
      "33 WA8LMF>APU25N,N6EX-11:>202337zhttp://wa8lmf.com???\n",
      "34 WA8LMF>APU25N,N6EX-3:>202337zhttp://wa8lmf.com?%'\n",
      "35 WA6TK>ID,N6EX-9:WA6TK/R RELAY/D KC7FD-1/B?.?\n",
      "36 WA6TK>ID,N6EX-4,WB6JAR-4,WIDE2-1:WA6TK/R RELAY/D KC7FD-1/B??_\n",
      "37 KA1WCC-2>ST0XPR,N6EX-3:`-T0m4?>/?)\n",
      "38 WA6TK>ID,W6SCE-5:WA6TK/R RELAY/D KC7FD-1/B??\\\n",
      "39 K7GIL-2>BEACON,WB6JAR-4,WIDE3-4,N7ZEV-3:!3436.62NN11717.30W#PHG5760/A=004530/W-R-T-CA Victorville, CA?P(\n",
      "40 K7GIL-2>BEACON,N6EX-8,N7ZEV-3:!3436.62NN11717.30W#PHG5760/A=004530/W-R-T-CA Victorville, CA??j\n",
      "41 KF6MDF-4>GPS,WIDE2-5:$GPRMC,013801,V,3354.0188,N,11805.8904,W,000.0,000.0,301105,013.7,E*73????\n",
      "42 KF6MDF-4>GPS,N6EX-3:$GPRMC,013801,V,3354.0188,N,11805.8904,W,000.0,000.0,301105,013.7,E*73???F\n",
      "43 KB6CYS>BEACON,WIDE3-7:WEATHER STATION ON-LINE?dY\n",
      "44 KB6CYS>BEACON,N6EX-9:WEATHER STATION ON-LINE?n?\n",
      "45 KB6CYS>BEACON,N6EX-3:WEATHER STATION ON-LINE???\n",
      "46 KD6LAY>APW277,W6PVG-6,N6EX-11:=3438.88N/11815.40WyPHG5660/WinAPRS 2.7.7 -277-<630>???\n",
      "47 KD6LAY>APW277,W6PVG-6,W6SCE-5:=3438.88N/11815.40WyPHG5660/WinAPRS 2.7.7 -277-<630>??0\n",
      "48 KF6WJS-12>S4PWYR,WIDE2-5:`.a\"l!^k/\"6b}??\n",
      "49 KF6WJS-12>S4PWYR,N6EX-9:`.a\"l!^k/\"6b}?F\n",
      "50 KF6WJS-12>S4PWYR,N6EX-9:`.a\"l!^k/\"6b}?F\n",
      "Done\n"
     ]
    }
   ],
   "source": [
    "block_size = 26400\n",
    "\n",
    "xlnk = Xlnk()\n",
    "\n",
    "def demod(data):\n",
    "    pll.register_map.CTRL = 0x81 # START|AUTO-RESTART while writing data\n",
    "    start_time = time.time()\n",
    "    output = np.array([],dtype=np.bool)\n",
    "    with xlnk.cma_array(shape=(block_size,), dtype=np.int8) as out_buffer, \\\n",
    "        xlnk.cma_array(shape=(block_size,), dtype=np.int8) as in_buffer:\n",
    "\n",
    "        for i in range(0, len(data), block_size):\n",
    "            out_buffer[:len(data[i:i+block_size])] = data[i:i+block_size]\n",
    "            dma.sendchannel.transfer(out_buffer)\n",
    "            dma.recvchannel.transfer(in_buffer)\n",
    "            dma.sendchannel.wait()\n",
    "            dma.recvchannel.wait()\n",
    "            output = np.append(output, in_buffer)\n",
    "            \n",
    "    stop_time = time.time()\n",
    "    sw_exec_time = stop_time - start_time\n",
    "    print('FPGA digital PLL execution time: ',sw_exec_time)\n",
    "    pll.register_map.CTRL = 0\n",
    "    return output\n",
    "\n",
    "dpll = demod(dx)\n",
    "\n",
    "nrzi = NRZI()\n",
    "hdlc = HDLC()\n",
    "count = 0\n",
    "for x in dpll:\n",
    "    if bool(x & 2):\n",
    "        packet = hdlc(nrzi(bool(x & 4)), bool(x & 1))\n",
    "        if packet is not None:\n",
    "            count += 1\n",
    "            print(count, AX25(packet[1]))\n",
    "\n",
    "print(\"Done\")"
   ]
  },
  {
   "cell_type": "code",
   "execution_count": null,
   "metadata": {},
   "outputs": [],
   "source": [
    "ctrl = dma.recvchannel._mmio.read(dma.recvchannel._offset)\n",
    "print(ctrl)\n",
    "dma.recvchannel._mmio.write(dma.recvchannel._offset, (ctrl | 4) & 0xFFFFFFFE)\n",
    "print(dma.recvchannel._mmio.read(dma.recvchannel._offset+0x04))\n",
    "dma.recvchannel.start()\n",
    "dma.sendchannel.start()"
   ]
  },
  {
   "cell_type": "code",
   "execution_count": null,
   "metadata": {},
   "outputs": [],
   "source": []
  }
 ],
 "metadata": {
  "kernelspec": {
   "display_name": "Python 3",
   "language": "python",
   "name": "python3"
  },
  "language_info": {
   "codemirror_mode": {
    "name": "ipython",
    "version": 3
   },
   "file_extension": ".py",
   "mimetype": "text/x-python",
   "name": "python",
   "nbconvert_exporter": "python",
   "pygments_lexer": "ipython3",
   "version": "3.6.5"
  }
 },
 "nbformat": 4,
 "nbformat_minor": 2
}
